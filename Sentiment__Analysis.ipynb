{
 "cells": [
  {
   "cell_type": "markdown",
   "id": "0cf5aa0b",
   "metadata": {},
   "source": [
    "### Import library"
   ]
  },
  {
   "cell_type": "code",
   "execution_count": 1,
   "id": "0ba26f95",
   "metadata": {
    "id": "0ba26f95"
   },
   "outputs": [],
   "source": [
    "import pandas as pd\n",
    "import numpy as np\n",
    "import matplotlib.pyplot as plt\n",
    "import seaborn as sns\n",
    "import nltk"
   ]
  },
  {
   "cell_type": "markdown",
   "id": "b32c1c5f",
   "metadata": {
    "id": "b32c1c5f"
   },
   "source": [
    "### Read dataset"
   ]
  },
  {
   "cell_type": "code",
   "execution_count": 2,
   "id": "f1bd2b73",
   "metadata": {},
   "outputs": [
    {
     "data": {
      "text/html": [
       "<div>\n",
       "<style scoped>\n",
       "    .dataframe tbody tr th:only-of-type {\n",
       "        vertical-align: middle;\n",
       "    }\n",
       "\n",
       "    .dataframe tbody tr th {\n",
       "        vertical-align: top;\n",
       "    }\n",
       "\n",
       "    .dataframe thead th {\n",
       "        text-align: right;\n",
       "    }\n",
       "</style>\n",
       "<table border=\"1\" class=\"dataframe\">\n",
       "  <thead>\n",
       "    <tr style=\"text-align: right;\">\n",
       "      <th></th>\n",
       "      <th>tweetid</th>\n",
       "      <th>entity</th>\n",
       "      <th>sentiment</th>\n",
       "      <th>text</th>\n",
       "    </tr>\n",
       "  </thead>\n",
       "  <tbody>\n",
       "    <tr>\n",
       "      <th>0</th>\n",
       "      <td>2401</td>\n",
       "      <td>Borderlands</td>\n",
       "      <td>Positive</td>\n",
       "      <td>im getting on borderlands and i will murder yo...</td>\n",
       "    </tr>\n",
       "    <tr>\n",
       "      <th>1</th>\n",
       "      <td>2401</td>\n",
       "      <td>Borderlands</td>\n",
       "      <td>Positive</td>\n",
       "      <td>I am coming to the borders and I will kill you...</td>\n",
       "    </tr>\n",
       "    <tr>\n",
       "      <th>2</th>\n",
       "      <td>2401</td>\n",
       "      <td>Borderlands</td>\n",
       "      <td>Positive</td>\n",
       "      <td>im getting on borderlands and i will kill you ...</td>\n",
       "    </tr>\n",
       "    <tr>\n",
       "      <th>3</th>\n",
       "      <td>2401</td>\n",
       "      <td>Borderlands</td>\n",
       "      <td>Positive</td>\n",
       "      <td>im coming on borderlands and i will murder you...</td>\n",
       "    </tr>\n",
       "    <tr>\n",
       "      <th>4</th>\n",
       "      <td>2401</td>\n",
       "      <td>Borderlands</td>\n",
       "      <td>Positive</td>\n",
       "      <td>im getting on borderlands 2 and i will murder ...</td>\n",
       "    </tr>\n",
       "  </tbody>\n",
       "</table>\n",
       "</div>"
      ],
      "text/plain": [
       "   tweetid       entity sentiment  \\\n",
       "0     2401  Borderlands  Positive   \n",
       "1     2401  Borderlands  Positive   \n",
       "2     2401  Borderlands  Positive   \n",
       "3     2401  Borderlands  Positive   \n",
       "4     2401  Borderlands  Positive   \n",
       "\n",
       "                                                text  \n",
       "0  im getting on borderlands and i will murder yo...  \n",
       "1  I am coming to the borders and I will kill you...  \n",
       "2  im getting on borderlands and i will kill you ...  \n",
       "3  im coming on borderlands and i will murder you...  \n",
       "4  im getting on borderlands 2 and i will murder ...  "
      ]
     },
     "execution_count": 2,
     "metadata": {},
     "output_type": "execute_result"
    }
   ],
   "source": [
    "data = pd.read_csv(\"./dataset/twitter_training.csv\", names = ['tweetid', 'entity','sentiment','text'])\n",
    "data_test = pd.read_csv('./dataset/twitter_validation.csv', names = ['tweetid','entity','sentiment','text'])\n",
    "data.head()"
   ]
  },
  {
   "cell_type": "code",
   "execution_count": 3,
   "id": "d2eb2464",
   "metadata": {
    "colab": {
     "base_uri": "https://localhost:8080/"
    },
    "id": "d2eb2464",
    "outputId": "9ffa4481-cbae-4d1f-d8d6-128865e15b93"
   },
   "outputs": [
    {
     "name": "stdout",
     "output_type": "stream",
     "text": [
      "<class 'pandas.core.frame.DataFrame'>\n",
      "RangeIndex: 74682 entries, 0 to 74681\n",
      "Data columns (total 4 columns):\n",
      " #   Column     Non-Null Count  Dtype \n",
      "---  ------     --------------  ----- \n",
      " 0   tweetid    74682 non-null  int64 \n",
      " 1   entity     74682 non-null  object\n",
      " 2   sentiment  74682 non-null  object\n",
      " 3   text       73996 non-null  object\n",
      "dtypes: int64(1), object(3)\n",
      "memory usage: 2.3+ MB\n"
     ]
    }
   ],
   "source": [
    "data.info()"
   ]
  },
  {
   "cell_type": "code",
   "execution_count": 4,
   "id": "317e9d77",
   "metadata": {},
   "outputs": [
    {
     "name": "stdout",
     "output_type": "stream",
     "text": [
      "<class 'pandas.core.frame.DataFrame'>\n",
      "RangeIndex: 1000 entries, 0 to 999\n",
      "Data columns (total 4 columns):\n",
      " #   Column     Non-Null Count  Dtype \n",
      "---  ------     --------------  ----- \n",
      " 0   tweetid    1000 non-null   int64 \n",
      " 1   entity     1000 non-null   object\n",
      " 2   sentiment  1000 non-null   object\n",
      " 3   text       1000 non-null   object\n",
      "dtypes: int64(1), object(3)\n",
      "memory usage: 31.4+ KB\n"
     ]
    }
   ],
   "source": [
    "data_test.info()"
   ]
  },
  {
   "cell_type": "markdown",
   "id": "fdb28d5a",
   "metadata": {},
   "source": [
    "## Data cleaning"
   ]
  },
  {
   "cell_type": "markdown",
   "id": "38bf81f8",
   "metadata": {
    "id": "38bf81f8"
   },
   "source": [
    "### Count values of sentiment"
   ]
  },
  {
   "cell_type": "code",
   "execution_count": 5,
   "id": "deb65fb2",
   "metadata": {
    "colab": {
     "base_uri": "https://localhost:8080/"
    },
    "id": "deb65fb2",
    "outputId": "b5d1a02a-6611-40c2-86ed-4295f2b7908b"
   },
   "outputs": [
    {
     "data": {
      "text/plain": [
       "sentiment\n",
       "Negative      22542\n",
       "Positive      20832\n",
       "Neutral       18318\n",
       "Irrelevant    12990\n",
       "Name: count, dtype: int64"
      ]
     },
     "execution_count": 5,
     "metadata": {},
     "output_type": "execute_result"
    }
   ],
   "source": [
    "data['sentiment'].value_counts()"
   ]
  },
  {
   "cell_type": "markdown",
   "id": "711ba7da",
   "metadata": {
    "id": "711ba7da"
   },
   "source": [
    "### Drop duplicate and drop null data"
   ]
  },
  {
   "cell_type": "code",
   "execution_count": 6,
   "id": "61aa7a27",
   "metadata": {
    "id": "61aa7a27"
   },
   "outputs": [],
   "source": [
    "data.drop_duplicates(inplace=True)\n",
    "data.dropna(inplace=True)\n",
    "data_test.drop_duplicates(inplace=True)\n",
    "data_test.dropna(inplace=True)"
   ]
  },
  {
   "cell_type": "markdown",
   "id": "6a72dd1d",
   "metadata": {
    "id": "6a72dd1d"
   },
   "source": [
    "### Remove value 'Irrelevant' in sentiment"
   ]
  },
  {
   "cell_type": "code",
   "execution_count": 7,
   "id": "7e041031",
   "metadata": {
    "id": "7e041031"
   },
   "outputs": [],
   "source": [
    "data.drop(data[data['sentiment'] == 'Irrelevant'].index, inplace=True)\n",
    "data_test.drop(data_test[data_test['sentiment'] == 'Irrelevant'].index, inplace=True)"
   ]
  },
  {
   "cell_type": "code",
   "execution_count": 8,
   "id": "97793cca",
   "metadata": {
    "id": "97793cca"
   },
   "outputs": [],
   "source": [
    "data.reset_index(inplace=True)\n",
    "data_test.reset_index(inplace=True)"
   ]
  },
  {
   "cell_type": "markdown",
   "id": "c75b6780",
   "metadata": {
    "id": "c75b6780"
   },
   "source": [
    "### Count chart values in label sentiment"
   ]
  },
  {
   "cell_type": "code",
   "execution_count": 9,
   "id": "559a11fa",
   "metadata": {
    "colab": {
     "base_uri": "https://localhost:8080/",
     "height": 449
    },
    "id": "559a11fa",
    "outputId": "4adc3929-968f-489e-8ad8-d562821dee03"
   },
   "outputs": [
    {
     "data": {
      "image/png": "[encoded data removed]",
      "text/plain": [
       "<Figure size 640x480 with 1 Axes>"
      ]
     },
     "metadata": {},
     "output_type": "display_data"
    }
   ],
   "source": [
    "sns.countplot(x='sentiment', data=data)\n",
    "plt.show()"
   ]
  },
  {
   "cell_type": "markdown",
   "id": "f4480b96",
   "metadata": {},
   "source": [
    "## Data preprocessing"
   ]
  },
  {
   "cell_type": "markdown",
   "id": "74a79d5f",
   "metadata": {
    "id": "74a79d5f"
   },
   "source": [
    "### Data modeling"
   ]
  },
  {
   "cell_type": "code",
   "execution_count": 10,
   "id": "1cd258ff",
   "metadata": {
    "id": "1cd258ff"
   },
   "outputs": [],
   "source": [
    "X_origin = data['text']\n",
    "y_label = data['sentiment']\n",
    "X_test_origin = data_test['text']\n",
    "y_test_label = data_test['sentiment']"
   ]
  },
  {
   "cell_type": "markdown",
   "id": "69b55c15",
   "metadata": {
    "id": "69b55c15"
   },
   "source": [
    "### Import library preprocessing X and y"
   ]
  },
  {
   "cell_type": "code",
   "execution_count": 12,
   "id": "9b25100b",
   "metadata": {
    "id": "9b25100b"
   },
   "outputs": [],
   "source": [
    "import re\n",
    "import nltk\n",
    "from nltk.corpus import stopwords\n",
    "from sklearn.model_selection import train_test_split\n",
    "from sklearn.preprocessing import LabelEncoder\n",
    "from sklearn.feature_extraction.text import TfidfVectorizer\n",
    "from nltk.stem import WordNetLemmatizer\n",
    "from nltk.corpus import wordnet\n",
    "from keras import models, layers\n",
    "#from keras.preprocessing.text import Tokenizer\n",
    "from keras.utils import to_categorical as keras_to_categorical\n",
    "from keras.utils import pad_sequences\n",
    "from keras.callbacks import EarlyStopping\n"
   ]
  },
  {
   "cell_type": "code",
   "execution_count": 13,
   "id": "2ab8f490",
   "metadata": {
    "colab": {
     "base_uri": "https://localhost:8080/"
    },
    "id": "2ab8f490",
    "outputId": "d2e5e987-a124-4f71-ef0a-6c0d3e3a16f1"
   },
   "outputs": [
    {
     "name": "stderr",
     "output_type": "stream",
     "text": [
      "[nltk_data] Downloading package wordnet to\n",
      "[nltk_data]     /Users/testvagrant/nltk_data...\n",
      "[nltk_data]   Package wordnet is already up-to-date!\n",
      "[nltk_data] Downloading package stopwords to\n",
      "[nltk_data]     /Users/testvagrant/nltk_data...\n",
      "[nltk_data]   Package stopwords is already up-to-date!\n",
      "[nltk_data] Downloading package punkt to\n",
      "[nltk_data]     /Users/testvagrant/nltk_data...\n",
      "[nltk_data]   Package punkt is already up-to-date!\n",
      "[nltk_data] Downloading package averaged_perceptron_tagger to\n",
      "[nltk_data]     /Users/testvagrant/nltk_data...\n",
      "[nltk_data]   Package averaged_perceptron_tagger is already up-to-\n",
      "[nltk_data]       date!\n"
     ]
    },
    {
     "data": {
      "text/plain": [
       "True"
      ]
     },
     "execution_count": 13,
     "metadata": {},
     "output_type": "execute_result"
    }
   ],
   "source": [
    "nltk.download('wordnet')\n",
    "nltk.download('stopwords')\n",
    "nltk.download('punkt')\n",
    "nltk.download('averaged_perceptron_tagger')"
   ]
  },
  {
   "cell_type": "markdown",
   "id": "6efac494",
   "metadata": {
    "id": "6efac494"
   },
   "source": [
    "### Label Encoder for label sentiment"
   ]
  },
  {
   "cell_type": "code",
   "execution_count": 14,
   "id": "fa976060",
   "metadata": {
    "colab": {
     "base_uri": "https://localhost:8080/"
    },
    "id": "fa976060",
    "outputId": "7a8902f1-66b9-4187-edb0-52feacf3557d"
   },
   "outputs": [
    {
     "name": "stdout",
     "output_type": "stream",
     "text": [
      "{'Negative': 0, 'Neutral': 1, 'Positive': 2}\n"
     ]
    }
   ],
   "source": [
    "label_encoder = LabelEncoder()\n",
    "y = label_encoder.fit_transform(y_label)\n",
    "y_mapping = dict(zip(label_encoder.classes_, label_encoder.transform(label_encoder.classes_)))\n",
    "print(y_mapping)"
   ]
  },
  {
   "cell_type": "code",
   "execution_count": 15,
   "id": "e457047c",
   "metadata": {},
   "outputs": [
    {
     "data": {
      "text/plain": [
       "array(['Negative', 'Neutral', 'Positive'], dtype=object)"
      ]
     },
     "execution_count": 15,
     "metadata": {},
     "output_type": "execute_result"
    }
   ],
   "source": [
    "label_encoder.classes_"
   ]
  },
  {
   "cell_type": "code",
   "execution_count": 16,
   "id": "7ca9a9f2",
   "metadata": {},
   "outputs": [],
   "source": [
    "import pickle\n",
    "# saving\n",
    "with open('./label_encoder.pickle', 'wb') as handle:\n",
    "    pickle.dump(label_encoder, handle, protocol=pickle.HIGHEST_PROTOCOL)"
   ]
  },
  {
   "cell_type": "markdown",
   "id": "58087e1c",
   "metadata": {
    "id": "58087e1c"
   },
   "source": [
    "### Replace text with some text have character to text"
   ]
  },
  {
   "cell_type": "code",
   "execution_count": 19,
   "id": "65a13eeb",
   "metadata": {
    "id": "65a13eeb"
   },
   "outputs": [],
   "source": [
    "replace_list = {\n",
    "    r\"i'm\": 'i am',\n",
    "    r\"im\": 'i am',\n",
    "    r\"'re\": ' are',\n",
    "    r\"let’s\": 'let us',\n",
    "    r\"'s\":  ' is',\n",
    "    r\"'ve\": ' have',\n",
    "    r\"can't\": 'can not',\n",
    "    r\"cannot\": 'can not',\n",
    "    r\"shan’t\": 'shall not',\n",
    "    r\"n't\": ' not',\n",
    "    r\"'d\": ' would',\n",
    "    r\"'ll\": ' will',\n",
    "    r\"'scuse\": 'excuse',\n",
    "    ',': ' ,',\n",
    "    '.': ' .',\n",
    "    '!': ' !',\n",
    "    '?': ' ?',\n",
    "    '\\s+': ' '\n",
    "}"
   ]
  },
  {
   "cell_type": "markdown",
   "id": "81f61387",
   "metadata": {
    "id": "81f61387"
   },
   "source": [
    "### Clean text with replace text and remove some character"
   ]
  },
  {
   "cell_type": "code",
   "execution_count": 20,
   "id": "3e67413b",
   "metadata": {
    "id": "3e67413b"
   },
   "outputs": [],
   "source": [
    "def clean_text(text):\n",
    "    # Replace text\n",
    "    text = text.lower()\n",
    "    for s in replace_list:\n",
    "        text = text.replace(s, replace_list[s])\n",
    "    text = ' '.join(text.split())\n",
    "    # lowercase\n",
    "    text = text.lower()\n",
    "    # Text in square brackets\n",
    "    text = re.sub('\\[.*?\\]', '', text)\n",
    "    # link\n",
    "    text = re.sub('https?://\\S+|www\\.\\S+', '', text)\n",
    "    # Punctuation\n",
    "    text = re.sub('[^a-zA-Z0-9\\s]+', '', text)\n",
    "    # Words containing numbers\n",
    "    text = re.sub('\\w*\\d\\w*', '', text)\n",
    "    # Stop words\n",
    "    stop_words = set(stopwords.words('english'))\n",
    "    words = text.split()\n",
    "    filtered_words = [word for word in words if word not in stop_words]\n",
    "    text = ' '.join(filtered_words)\n",
    "    # Extra whitespace\n",
    "    text = re.sub('\\s+', ' ', text).strip()\n",
    "    words = nltk.word_tokenize(text)\n",
    "\n",
    "    lemmatizer = WordNetLemmatizer()\n",
    "    lemmatized_words = []\n",
    "    for word in words:\n",
    "        # Determine POS\n",
    "        pos_tag = nltk.pos_tag([word])[0][1]\n",
    "        if pos_tag.startswith('V'):  # Verb\n",
    "            lemma = lemmatizer.lemmatize(word, wordnet.VERB)\n",
    "        elif pos_tag.startswith('N'):  # Noun\n",
    "            lemma = lemmatizer.lemmatize(word, wordnet.NOUN)\n",
    "        elif pos_tag.startswith('J'):  # ADJ\n",
    "            lemma = lemmatizer.lemmatize(word, wordnet.ADJ)\n",
    "        elif pos_tag.startswith('R'):  # ADV\n",
    "            lemma = lemmatizer.lemmatize(word, wordnet.ADV)\n",
    "        else:\n",
    "            lemma = word\n",
    "        lemmatized_words.append(lemma)\n",
    "\n",
    "    text = ' '.join(lemmatized_words)\n",
    "    return text\n",
    "\n",
    "X_clean = X_origin.apply(lambda p: clean_text(p))\n",
    "X_test_clean = X_test_origin.apply(lambda p : clean_text(p))"
   ]
  },
  {
   "cell_type": "markdown",
   "id": "3e4d5ad7",
   "metadata": {},
   "source": [
    "### Vectorizing data"
   ]
  },
  {
   "cell_type": "code",
   "execution_count": 21,
   "id": "20991b2d",
   "metadata": {
    "id": "20991b2d"
   },
   "outputs": [],
   "source": [
    "from tensorflow.keras.preprocessing.text import Tokenizer\n",
    "max_words = 10000\n",
    "tokenizer = Tokenizer(num_words = max_words)\n",
    "tokenizer.fit_on_texts(X_clean)\n",
    "X = tokenizer.texts_to_sequences(X_clean)\n",
    "X_test = tokenizer.texts_to_sequences(X_test_clean)\n",
    "X= pad_sequences(X, maxlen = 500)\n",
    "X_test = pad_sequences(X_test, maxlen = 500)"
   ]
  },
  {
   "cell_type": "code",
   "execution_count": 22,
   "id": "d714e03a",
   "metadata": {},
   "outputs": [],
   "source": [
    "import pickle\n",
    "# saving\n",
    "with open('./tokenizer.pickle', 'wb') as handle:\n",
    "    pickle.dump(tokenizer, handle, protocol=pickle.HIGHEST_PROTOCOL)"
   ]
  },
  {
   "cell_type": "markdown",
   "id": "a7fa22ce",
   "metadata": {},
   "source": [
    "## Data Prediction"
   ]
  },
  {
   "cell_type": "markdown",
   "id": "d28ec44b",
   "metadata": {
    "id": "d28ec44b"
   },
   "source": [
    "### Train_test_split X and y"
   ]
  },
  {
   "cell_type": "code",
   "execution_count": 23,
   "id": "ad314097",
   "metadata": {
    "id": "ad314097"
   },
   "outputs": [],
   "source": [
    "X_train, X_valid, y_train, y_valid = train_test_split(X, y, test_size=.25, random_state=42)"
   ]
  },
  {
   "cell_type": "markdown",
   "id": "62d021ff",
   "metadata": {},
   "source": [
    "### Deep learning LSTM model"
   ]
  },
  {
   "cell_type": "code",
   "execution_count": 24,
   "id": "c94fd715",
   "metadata": {
    "id": "c94fd715"
   },
   "outputs": [
    {
     "name": "stderr",
     "output_type": "stream",
     "text": [
      "/opt/anaconda3/lib/python3.11/site-packages/keras/src/layers/core/embedding.py:86: UserWarning: Argument `input_length` is deprecated. Just remove it.\n",
      "  warnings.warn(\n"
     ]
    }
   ],
   "source": [
    "model = models.Sequential([\n",
    "    layers.Embedding(input_dim = max_words, output_dim = 128, input_length = 500),\n",
    "    layers.SpatialDropout1D(0.3),\n",
    "    layers.LSTM(128, dropout = 0.3, recurrent_dropout = 0.3),\n",
    "    layers.Dense(128, activation = 'relu'),\n",
    "    layers.Dropout(0.3),\n",
    "    layers.Dense(3, activation = 'softmax'),\n",
    "])\n",
    "early_stopping = EarlyStopping(monitor='loss', patience=2)\n",
    "model.compile(\n",
    "    loss='sparse_categorical_crossentropy',\n",
    "    optimizer='adam',\n",
    "    metrics=['accuracy']\n",
    ")"
   ]
  },
  {
   "cell_type": "code",
   "execution_count": 25,
   "id": "6dc750f3",
   "metadata": {
    "colab": {
     "base_uri": "https://localhost:8080/"
    },
    "id": "6dc750f3",
    "outputId": "ededa7d8-53bc-4cb1-c07e-bc4749447f08"
   },
   "outputs": [
    {
     "name": "stdout",
     "output_type": "stream",
     "text": [
      "Epoch 1/20\n",
      "\u001b[1m87/87\u001b[0m \u001b[32m━━━━━━━━━━━━━━━━━━━━\u001b[0m\u001b[37m\u001b[0m \u001b[1m140s\u001b[0m 2s/step - accuracy: 0.4610 - loss: 1.0226 - val_accuracy: 0.7159 - val_loss: 0.6883\n",
      "Epoch 2/20\n",
      "\u001b[1m87/87\u001b[0m \u001b[32m━━━━━━━━━━━━━━━━━━━━\u001b[0m\u001b[37m\u001b[0m \u001b[1m307s\u001b[0m 4s/step - accuracy: 0.7475 - loss: 0.6257 - val_accuracy: 0.7775 - val_loss: 0.5568\n",
      "Epoch 3/20\n",
      "\u001b[1m87/87\u001b[0m \u001b[32m━━━━━━━━━━━━━━━━━━━━\u001b[0m\u001b[37m\u001b[0m \u001b[1m142s\u001b[0m 2s/step - accuracy: 0.8101 - loss: 0.4852 - val_accuracy: 0.7770 - val_loss: 0.5548\n",
      "Epoch 4/20\n",
      "\u001b[1m87/87\u001b[0m \u001b[32m━━━━━━━━━━━━━━━━━━━━\u001b[0m\u001b[37m\u001b[0m \u001b[1m141s\u001b[0m 2s/step - accuracy: 0.8271 - loss: 0.4444 - val_accuracy: 0.8141 - val_loss: 0.4685\n",
      "Epoch 5/20\n",
      "\u001b[1m87/87\u001b[0m \u001b[32m━━━━━━━━━━━━━━━━━━━━\u001b[0m\u001b[37m\u001b[0m \u001b[1m139s\u001b[0m 2s/step - accuracy: 0.8564 - loss: 0.3677 - val_accuracy: 0.8294 - val_loss: 0.4301\n",
      "Epoch 6/20\n",
      "\u001b[1m87/87\u001b[0m \u001b[32m━━━━━━━━━━━━━━━━━━━━\u001b[0m\u001b[37m\u001b[0m \u001b[1m139s\u001b[0m 2s/step - accuracy: 0.8740 - loss: 0.3240 - val_accuracy: 0.8353 - val_loss: 0.4136\n",
      "Epoch 7/20\n",
      "\u001b[1m87/87\u001b[0m \u001b[32m━━━━━━━━━━━━━━━━━━━━\u001b[0m\u001b[37m\u001b[0m \u001b[1m140s\u001b[0m 2s/step - accuracy: 0.8837 - loss: 0.2890 - val_accuracy: 0.8442 - val_loss: 0.4016\n",
      "Epoch 8/20\n",
      "\u001b[1m87/87\u001b[0m \u001b[32m━━━━━━━━━━━━━━━━━━━━\u001b[0m\u001b[37m\u001b[0m \u001b[1m154s\u001b[0m 2s/step - accuracy: 0.8936 - loss: 0.2684 - val_accuracy: 0.8442 - val_loss: 0.3997\n",
      "Epoch 9/20\n",
      "\u001b[1m87/87\u001b[0m \u001b[32m━━━━━━━━━━━━━━━━━━━━\u001b[0m\u001b[37m\u001b[0m \u001b[1m140s\u001b[0m 2s/step - accuracy: 0.8942 - loss: 0.2606 - val_accuracy: 0.8505 - val_loss: 0.3940\n",
      "Epoch 10/20\n",
      "\u001b[1m87/87\u001b[0m \u001b[32m━━━━━━━━━━━━━━━━━━━━\u001b[0m\u001b[37m\u001b[0m \u001b[1m139s\u001b[0m 2s/step - accuracy: 0.9002 - loss: 0.2415 - val_accuracy: 0.8524 - val_loss: 0.3985\n",
      "Epoch 11/20\n",
      "\u001b[1m87/87\u001b[0m \u001b[32m━━━━━━━━━━━━━━━━━━━━\u001b[0m\u001b[37m\u001b[0m \u001b[1m139s\u001b[0m 2s/step - accuracy: 0.9048 - loss: 0.2280 - val_accuracy: 0.8539 - val_loss: 0.3976\n",
      "Epoch 12/20\n",
      "\u001b[1m87/87\u001b[0m \u001b[32m━━━━━━━━━━━━━━━━━━━━\u001b[0m\u001b[37m\u001b[0m \u001b[1m142s\u001b[0m 2s/step - accuracy: 0.9088 - loss: 0.2178 - val_accuracy: 0.8553 - val_loss: 0.4018\n",
      "Epoch 13/20\n",
      "\u001b[1m87/87\u001b[0m \u001b[32m━━━━━━━━━━━━━━━━━━━━\u001b[0m\u001b[37m\u001b[0m \u001b[1m137s\u001b[0m 2s/step - accuracy: 0.9136 - loss: 0.2076 - val_accuracy: 0.8585 - val_loss: 0.3963\n",
      "Epoch 14/20\n",
      "\u001b[1m87/87\u001b[0m \u001b[32m━━━━━━━━━━━━━━━━━━━━\u001b[0m\u001b[37m\u001b[0m \u001b[1m137s\u001b[0m 2s/step - accuracy: 0.8458 - loss: 0.4960 - val_accuracy: 0.8556 - val_loss: 0.3985\n",
      "Epoch 15/20\n",
      "\u001b[1m87/87\u001b[0m \u001b[32m━━━━━━━━━━━━━━━━━━━━\u001b[0m\u001b[37m\u001b[0m \u001b[1m139s\u001b[0m 2s/step - accuracy: 0.9083 - loss: 0.2177 - val_accuracy: 0.8590 - val_loss: 0.4025\n"
     ]
    }
   ],
   "source": [
    "history = model.fit(\n",
    "    X_train,\n",
    "    y_train,\n",
    "    validation_data=(X_valid,y_valid),\n",
    "    epochs = 20,\n",
    "    batch_size = 512,\n",
    "    callbacks=[early_stopping],\n",
    ")"
   ]
  },
  {
   "cell_type": "markdown",
   "id": "d0124f81",
   "metadata": {},
   "source": [
    "### Save and load model LSTM"
   ]
  },
  {
   "cell_type": "code",
   "execution_count": 26,
   "id": "13bbe73f",
   "metadata": {
    "id": "13bbe73f"
   },
   "outputs": [
    {
     "name": "stderr",
     "output_type": "stream",
     "text": [
      "WARNING:absl:You are saving your model as an HDF5 file via `model.save()` or `keras.saving.save_model(model)`. This file format is considered legacy. We recommend using instead the native Keras format, e.g. `model.save('my_model.keras')` or `keras.saving.save_model(model, 'my_model.keras')`. \n"
     ]
    }
   ],
   "source": [
    "model.save('./model_keras/lstm_final.h5')"
   ]
  },
  {
   "cell_type": "code",
   "execution_count": 41,
   "id": "643af665",
   "metadata": {
    "id": "643af665"
   },
   "outputs": [
    {
     "name": "stderr",
     "output_type": "stream",
     "text": [
      "WARNING:absl:Compiled the loaded model, but the compiled metrics have yet to be built. `model.compile_metrics` will be empty until you train or evaluate the model.\n"
     ]
    }
   ],
   "source": [
    "model = models.load_model('./model_keras/lstm_final.h5')"
   ]
  },
  {
   "cell_type": "markdown",
   "id": "70631750",
   "metadata": {},
   "source": [
    "### Plotting accuracy and loss"
   ]
  },
  {
   "cell_type": "code",
   "execution_count": 42,
   "id": "035892d2",
   "metadata": {
    "colab": {
     "base_uri": "https://localhost:8080/",
     "height": 452
    },
    "id": "035892d2",
    "outputId": "7d1264cd-91ff-40dc-8b54-6a8b0e698971"
   },
   "outputs": [
    {
     "data": {
      "image/png": "[encoded data removed]",
      "text/plain": [
       "<Figure size 640x480 with 1 Axes>"
      ]
     },
     "metadata": {},
     "output_type": "display_data"
    }
   ],
   "source": [
    "history_ = history.history\n",
    "acc, val_acc = history_[\"accuracy\"], history_[\"val_accuracy\"]\n",
    "epochs = range(len(acc))\n",
    "plt.plot(epochs, acc, 'r', label='Training accuracy')\n",
    "plt.plot(epochs, val_acc, 'b', label='Validating accuracy')\n",
    "plt.title('Training accuracy & Validating accuracy')\n",
    "plt.legend()\n",
    "\n",
    "plt.show()"
   ]
  },
  {
   "cell_type": "code",
   "execution_count": 43,
   "id": "f6e4a527",
   "metadata": {
    "colab": {
     "base_uri": "https://localhost:8080/",
     "height": 452
    },
    "id": "f6e4a527",
    "outputId": "b0855342-4ee3-409b-ac05-1928654c7207"
   },
   "outputs": [
    {
     "data": {
      "image/png": "[encoded data removed]",
      "text/plain": [
       "<Figure size 640x480 with 1 Axes>"
      ]
     },
     "metadata": {},
     "output_type": "display_data"
    }
   ],
   "source": [
    "train_loss, val_loss = history_[\"loss\"], history_[\"val_loss\"]\n",
    "epochs = range(len(train_loss))\n",
    "plt.plot(epochs, train_loss, 'r', label='Training loss')\n",
    "plt.plot(epochs, val_loss, 'b', label='Validating loss')\n",
    "plt.title('Training loss & Validating loss')\n",
    "plt.legend()\n",
    "\n",
    "plt.show()"
   ]
  },
  {
   "cell_type": "markdown",
   "id": "26f0792f",
   "metadata": {},
   "source": [
    "### Machine learning model"
   ]
  },
  {
   "cell_type": "markdown",
   "id": "lm1JrNQYCnH-",
   "metadata": {
    "id": "lm1JrNQYCnH-"
   },
   "source": [
    "GausianNaiveBayes"
   ]
  },
  {
   "cell_type": "code",
   "execution_count": 30,
   "id": "vvyKQylFCcwJ",
   "metadata": {
    "colab": {
     "base_uri": "https://localhost:8080/"
    },
    "id": "vvyKQylFCcwJ",
    "outputId": "6d24a34c-6698-4363-9a46-897fc7343db5"
   },
   "outputs": [
    {
     "data": {
      "text/plain": [
       "0.37422192151556155"
      ]
     },
     "execution_count": 30,
     "metadata": {},
     "output_type": "execute_result"
    }
   ],
   "source": [
    "from sklearn.naive_bayes import GaussianNB\n",
    "bayes = GaussianNB()\n",
    "bayes.fit(X_train, y_train)\n",
    "bayes.score(X_valid, y_valid)"
   ]
  },
  {
   "cell_type": "markdown",
   "id": "31JneTNrCr9_",
   "metadata": {
    "id": "31JneTNrCr9_"
   },
   "source": [
    "DecisionTree"
   ]
  },
  {
   "cell_type": "code",
   "execution_count": 31,
   "id": "O-jVk1XOCdTe",
   "metadata": {
    "colab": {
     "base_uri": "https://localhost:8080/"
    },
    "id": "O-jVk1XOCdTe",
    "outputId": "7d7e5086-be88-45ff-f668-10b3a31efcdb"
   },
   "outputs": [
    {
     "data": {
      "text/plain": [
       "0.5666441136671178"
      ]
     },
     "execution_count": 31,
     "metadata": {},
     "output_type": "execute_result"
    }
   ],
   "source": [
    "from sklearn.tree import DecisionTreeClassifier\n",
    "dt = DecisionTreeClassifier()\n",
    "dt.fit(X_train, y_train)\n",
    "dt.score(X_valid, y_valid)"
   ]
  },
  {
   "cell_type": "markdown",
   "id": "ms0KcGDeCuV7",
   "metadata": {
    "id": "ms0KcGDeCuV7"
   },
   "source": [
    "RandomForest"
   ]
  },
  {
   "cell_type": "code",
   "execution_count": 32,
   "id": "CJYRBdMeCcpv",
   "metadata": {
    "colab": {
     "base_uri": "https://localhost:8080/"
    },
    "id": "CJYRBdMeCcpv",
    "outputId": "65955604-a087-4443-b638-39e9e31844dc"
   },
   "outputs": [
    {
     "data": {
      "text/plain": [
       "0.6579161028416779"
      ]
     },
     "execution_count": 32,
     "metadata": {},
     "output_type": "execute_result"
    }
   ],
   "source": [
    "from sklearn.ensemble import RandomForestClassifier\n",
    "rf = RandomForestClassifier()\n",
    "rf.fit(X_train, y_train)\n",
    "rf.score(X_valid, y_valid)"
   ]
  },
  {
   "cell_type": "markdown",
   "id": "b97c3a12",
   "metadata": {
    "id": "b97c3a12"
   },
   "source": [
    "## Test with data_test"
   ]
  },
  {
   "cell_type": "code",
   "execution_count": 33,
   "id": "fd2cb26c",
   "metadata": {
    "colab": {
     "base_uri": "https://localhost:8080/"
    },
    "id": "fd2cb26c",
    "outputId": "39831856-eaca-486b-b812-6dab411949eb",
    "scrolled": true
   },
   "outputs": [
    {
     "name": "stdout",
     "output_type": "stream",
     "text": [
      "\u001b[1m26/26\u001b[0m \u001b[32m━━━━━━━━━━━━━━━━━━━━\u001b[0m\u001b[37m\u001b[0m \u001b[1m2s\u001b[0m 83ms/step\n"
     ]
    }
   ],
   "source": [
    "predict_test = model.predict(X_test)\n",
    "predicted_labels = np.argmax(predict_test,axis=1)\n",
    "y_predict = label_encoder.inverse_transform(predicted_labels)"
   ]
  },
  {
   "cell_type": "markdown",
   "id": "0d550f26",
   "metadata": {
    "id": "0d550f26"
   },
   "source": [
    "### DataFrame for prediction and y_test"
   ]
  },
  {
   "cell_type": "code",
   "execution_count": 34,
   "id": "9d3bfd13",
   "metadata": {
    "colab": {
     "base_uri": "https://localhost:8080/",
     "height": 363
    },
    "id": "9d3bfd13",
    "outputId": "b7cb1bf5-b733-4291-dfcc-5329d86b313d"
   },
   "outputs": [
    {
     "data": {
      "text/html": [
       "<div>\n",
       "<style scoped>\n",
       "    .dataframe tbody tr th:only-of-type {\n",
       "        vertical-align: middle;\n",
       "    }\n",
       "\n",
       "    .dataframe tbody tr th {\n",
       "        vertical-align: top;\n",
       "    }\n",
       "\n",
       "    .dataframe thead th {\n",
       "        text-align: right;\n",
       "    }\n",
       "</style>\n",
       "<table border=\"1\" class=\"dataframe\">\n",
       "  <thead>\n",
       "    <tr style=\"text-align: right;\">\n",
       "      <th></th>\n",
       "      <th>Prediction</th>\n",
       "      <th>y_test</th>\n",
       "    </tr>\n",
       "  </thead>\n",
       "  <tbody>\n",
       "    <tr>\n",
       "      <th>0</th>\n",
       "      <td>Neutral</td>\n",
       "      <td>Neutral</td>\n",
       "    </tr>\n",
       "    <tr>\n",
       "      <th>1</th>\n",
       "      <td>Negative</td>\n",
       "      <td>Negative</td>\n",
       "    </tr>\n",
       "    <tr>\n",
       "      <th>2</th>\n",
       "      <td>Negative</td>\n",
       "      <td>Negative</td>\n",
       "    </tr>\n",
       "    <tr>\n",
       "      <th>3</th>\n",
       "      <td>Neutral</td>\n",
       "      <td>Neutral</td>\n",
       "    </tr>\n",
       "    <tr>\n",
       "      <th>4</th>\n",
       "      <td>Negative</td>\n",
       "      <td>Negative</td>\n",
       "    </tr>\n",
       "    <tr>\n",
       "      <th>5</th>\n",
       "      <td>Positive</td>\n",
       "      <td>Positive</td>\n",
       "    </tr>\n",
       "    <tr>\n",
       "      <th>6</th>\n",
       "      <td>Positive</td>\n",
       "      <td>Positive</td>\n",
       "    </tr>\n",
       "    <tr>\n",
       "      <th>7</th>\n",
       "      <td>Positive</td>\n",
       "      <td>Positive</td>\n",
       "    </tr>\n",
       "    <tr>\n",
       "      <th>8</th>\n",
       "      <td>Negative</td>\n",
       "      <td>Negative</td>\n",
       "    </tr>\n",
       "    <tr>\n",
       "      <th>9</th>\n",
       "      <td>Positive</td>\n",
       "      <td>Positive</td>\n",
       "    </tr>\n",
       "  </tbody>\n",
       "</table>\n",
       "</div>"
      ],
      "text/plain": [
       "  Prediction    y_test\n",
       "0    Neutral   Neutral\n",
       "1   Negative  Negative\n",
       "2   Negative  Negative\n",
       "3    Neutral   Neutral\n",
       "4   Negative  Negative\n",
       "5   Positive  Positive\n",
       "6   Positive  Positive\n",
       "7   Positive  Positive\n",
       "8   Negative  Negative\n",
       "9   Positive  Positive"
      ]
     },
     "execution_count": 34,
     "metadata": {},
     "output_type": "execute_result"
    }
   ],
   "source": [
    "predict_df = pd.DataFrame({\n",
    "    'Prediction':y_predict,\n",
    "    'y_test':y_test_label,\n",
    "})\n",
    "predict_df.head(10)"
   ]
  },
  {
   "cell_type": "markdown",
   "id": "fe6c739e",
   "metadata": {
    "id": "fe6c739e"
   },
   "source": [
    "### Export DataFrame to File CSV"
   ]
  },
  {
   "cell_type": "code",
   "execution_count": 1,
   "id": "6338eb53",
   "metadata": {},
   "outputs": [],
   "source": [
    "#predict_df.to_csv('./dataset/twitter_sentiment_analysis/prediction.csv')\n"
   ]
  },
  {
   "cell_type": "code",
   "execution_count": 2,
   "id": "9fd6e17f",
   "metadata": {
    "id": "9fd6e17f"
   },
   "outputs": [
    {
     "ename": "NameError",
     "evalue": "name 'predict_df' is not defined",
     "output_type": "error",
     "traceback": [
      "\u001b[0;31m---------------------------------------------------------------------------\u001b[0m",
      "\u001b[0;31mNameError\u001b[0m                                 Traceback (most recent call last)",
      "Cell \u001b[0;32mIn[2], line 2\u001b[0m\n\u001b[1;32m      1\u001b[0m \u001b[38;5;28;01mimport\u001b[39;00m \u001b[38;5;21;01mos\u001b[39;00m\n\u001b[0;32m----> 2\u001b[0m \u001b[43mpredict_df\u001b[49m\u001b[38;5;241m.\u001b[39mto_csv(\u001b[38;5;124m'\u001b[39m\u001b[38;5;124m./dataset/prediction.csv\u001b[39m\u001b[38;5;124m'\u001b[39m)\n",
      "\u001b[0;31mNameError\u001b[0m: name 'predict_df' is not defined"
     ]
    }
   ],
   "source": [
    "import os\n",
    "predict_df.to_csv('./dataset/prediction.csv')\n"
   ]
  },
  {
   "cell_type": "markdown",
   "id": "a2534ab2",
   "metadata": {
    "id": "a2534ab2"
   },
   "source": [
    "### Test with new data"
   ]
  },
  {
   "cell_type": "code",
   "execution_count": 37,
   "id": "8de65994",
   "metadata": {
    "colab": {
     "base_uri": "https://localhost:8080/"
    },
    "id": "8de65994",
    "outputId": "9168b635-c098-4bfc-8ed1-dc07a72ebe47"
   },
   "outputs": [
    {
     "name": "stdout",
     "output_type": "stream",
     "text": [
      "\u001b[1m1/1\u001b[0m \u001b[32m━━━━━━━━━━━━━━━━━━━━\u001b[0m\u001b[37m\u001b[0m \u001b[1m0s\u001b[0m 59ms/step\n",
      "['Negative' 'Negative']\n"
     ]
    }
   ],
   "source": [
    "txt_test = [\"This game is so bad man\", \"I didn't like this game at all\"]\n",
    "txt_test = tokenizer.texts_to_sequences(txt_test)\n",
    "txt_test = pad_sequences(txt_test, maxlen = 500)\n",
    "\n",
    "predict = model.predict(txt_test)\n",
    "predicted_labels = np.argmax(predict, axis=1)\n",
    "prediction = label_encoder.inverse_transform(predicted_labels)\n",
    "print(prediction)"
   ]
  },
  {
   "cell_type": "code",
   "execution_count": 38,
   "id": "b5dac2e0",
   "metadata": {},
   "outputs": [
    {
     "data": {
      "text/plain": [
       "(2, 500)"
      ]
     },
     "execution_count": 38,
     "metadata": {},
     "output_type": "execute_result"
    }
   ],
   "source": [
    "txt_test.shape"
   ]
  },
  {
   "cell_type": "code",
   "execution_count": 39,
   "id": "82fb96eb",
   "metadata": {},
   "outputs": [
    {
     "data": {
      "text/plain": [
       "array([[0.96, 0.01, 0.03],\n",
       "       [0.48, 0.18, 0.34]], dtype=float32)"
      ]
     },
     "execution_count": 39,
     "metadata": {},
     "output_type": "execute_result"
    }
   ],
   "source": [
    "np.round(predict, 2)"
   ]
  },
  {
   "cell_type": "code",
   "execution_count": 40,
   "id": "b8820641",
   "metadata": {},
   "outputs": [
    {
     "data": {
      "text/plain": [
       "array(['Negative', 'Negative'], dtype=object)"
      ]
     },
     "execution_count": 40,
     "metadata": {},
     "output_type": "execute_result"
    }
   ],
   "source": [
    "prediction"
   ]
  },
  {
   "cell_type": "code",
   "execution_count": null,
   "id": "cdfc5765",
   "metadata": {},
   "outputs": [],
   "source": []
  },
  {
   "cell_type": "code",
   "execution_count": null,
   "id": "78a22124",
   "metadata": {},
   "outputs": [],
   "source": []
  }
 ],
 "metadata": {
  "accelerator": "TPU",
  "colab": {
   "provenance": []
  },
  "kernelspec": {
   "display_name": "Python 3 (ipykernel)",
   "language": "python",
   "name": "python3"
  },
  "language_info": {
   "codemirror_mode": {
    "name": "ipython",
    "version": 3
   },
   "file_extension": ".py",
   "mimetype": "text/x-python",
   "name": "python",
   "nbconvert_exporter": "python",
   "pygments_lexer": "ipython3",
   "version": "3.11.0"
  }
 },
 "nbformat": 4,
 "nbformat_minor": 5
}
